{
 "cells": [
  {
   "cell_type": "markdown",
   "metadata": {},
   "source": [
    "# Loading and processing data"
   ]
  },
  {
   "cell_type": "code",
   "execution_count": null,
   "metadata": {},
   "outputs": [],
   "source": [
    "def read_file(filename):\n",
    "    data = []\n",
    "    with open(filename, encoding='utf-8') as fh:\n",
    "        for line in fh.readlines():\n",
    "            data.append(line)\n",
    "    return data   \n",
    "\n",
    "en_file_path = \"Dataset//english-corpus.txt\"\n",
    "ur_file_path = \"Dataset//urdu-corpus.txt\"\n",
    "\n",
    "english_sentences = read_file(en_file_path)\n",
    "urdu_sentences = read_file(ur_file_path)\n"
   ]
  },
  {
   "cell_type": "code",
   "execution_count": null,
   "metadata": {},
   "outputs": [],
   "source": [
    "english_sentences = [sentence.rstrip() for sentence in english_sentences]\n",
    "urdu_sentences = [sentence.rstrip() for sentence in urdu_sentences]"
   ]
  },
  {
   "cell_type": "code",
   "execution_count": null,
   "metadata": {},
   "outputs": [
    {
     "name": "stdout",
     "output_type": "stream",
     "text": [
      "Maximum lenght of english scentence: 78\n",
      "Maximum lenght of urdu scentence: 85\n"
     ]
    }
   ],
   "source": [
    "length_of_sentences = [len(line) for line in english_sentences]\n",
    "print('Maximum lenght of english scentence:', max(length_of_sentences))\n",
    "length_of_sentences = [len(line) for line in urdu_sentences]\n",
    "print('Maximum lenght of urdu scentence:', max(length_of_sentences))"
   ]
  },
  {
   "cell_type": "markdown",
   "metadata": {},
   "source": [
    "## Tokenization\n",
    "We will use BPE as used in original paper"
   ]
  },
  {
   "cell_type": "code",
   "execution_count": null,
   "metadata": {},
   "outputs": [],
   "source": [
    "from tokenizers import Tokenizer\n",
    "from tokenizers.models import BPE\n",
    "from tokenizers.trainers import BpeTrainer\n",
    "from tokenizers.pre_tokenizers import Whitespace\n",
    "from tokenizers.processors import TemplateProcessing"
   ]
  },
  {
   "cell_type": "code",
   "execution_count": null,
   "metadata": {},
   "outputs": [],
   "source": [
    "def create_tokenizer(filepath, vocab_size=10000, max_length=100):\n",
    "    tokenizer=Tokenizer(BPE(unk_token='[UNK]'))\n",
    "    # tokenizer.pre_tokenizer = Whitespace()\n",
    "    trainer = BpeTrainer(special_tokens=[\"[PAD]\", \"[START]\", \"[END]\", \"[UNK]\"], \n",
    "                         vocab_size=vocab_size) # order matters here\n",
    "    tokenizer.train([filepath], trainer=trainer)\n",
    "    tokenizer.save('eng_tokenizer.json')\n",
    "    tokenizer.post_processor = TemplateProcessing(\n",
    "        single=\"[START] $A [END]\",\n",
    "        special_tokens=[\n",
    "            (\"[START]\", tokenizer.token_to_id(\"[START]\")),\n",
    "            (\"[END]\", tokenizer.token_to_id(\"[END]\")),\n",
    "        ]\n",
    "    )\n",
    "    tokenizer.enable_padding(\n",
    "        length=max_length\n",
    "    )\n",
    "    tokenizer.enable_truncation(max_length)\n",
    "    return tokenizer"
   ]
  },
  {
   "cell_type": "code",
   "execution_count": null,
   "metadata": {},
   "outputs": [],
   "source": [
    "eng_tokenizer = create_tokenizer(\"Dataset\\\\english-corpus.txt\", 5000)\n",
    "urdu_tokenizer = create_tokenizer(\"Dataset\\\\urdu-corpus.txt\", 5000)"
   ]
  },
  {
   "cell_type": "code",
   "execution_count": null,
   "metadata": {},
   "outputs": [
    {
     "name": "stdout",
     "output_type": "stream",
     "text": [
      "['[START]', 'is zain ', 'your ', 'ne', 'p', 'he', 'w', '[END]', '[PAD]', '[PAD]', '[PAD]', '[PAD]', '[PAD]', '[PAD]', '[PAD]', '[PAD]', '[PAD]', '[PAD]', '[PAD]', '[PAD]', '[PAD]', '[PAD]', '[PAD]', '[PAD]', '[PAD]', '[PAD]', '[PAD]', '[PAD]', '[PAD]', '[PAD]', '[PAD]', '[PAD]', '[PAD]', '[PAD]', '[PAD]', '[PAD]', '[PAD]', '[PAD]', '[PAD]', '[PAD]', '[PAD]', '[PAD]', '[PAD]', '[PAD]', '[PAD]', '[PAD]', '[PAD]', '[PAD]', '[PAD]', '[PAD]', '[PAD]', '[PAD]', '[PAD]', '[PAD]', '[PAD]', '[PAD]', '[PAD]', '[PAD]', '[PAD]', '[PAD]', '[PAD]', '[PAD]', '[PAD]', '[PAD]', '[PAD]', '[PAD]', '[PAD]', '[PAD]', '[PAD]', '[PAD]', '[PAD]', '[PAD]', '[PAD]', '[PAD]', '[PAD]', '[PAD]', '[PAD]', '[PAD]', '[PAD]', '[PAD]', '[PAD]', '[PAD]', '[PAD]', '[PAD]', '[PAD]', '[PAD]', '[PAD]', '[PAD]', '[PAD]', '[PAD]', '[PAD]', '[PAD]', '[PAD]', '[PAD]', '[PAD]', '[PAD]', '[PAD]', '[PAD]', '[PAD]', '[PAD]']\n",
      "['[START]', 'زین ', 'تمہارا ', 'بھ', 'تی', 'جا', ' ہے', '۔', '[END]', '[PAD]', '[PAD]', '[PAD]', '[PAD]', '[PAD]', '[PAD]', '[PAD]', '[PAD]', '[PAD]', '[PAD]', '[PAD]', '[PAD]', '[PAD]', '[PAD]', '[PAD]', '[PAD]', '[PAD]', '[PAD]', '[PAD]', '[PAD]', '[PAD]', '[PAD]', '[PAD]', '[PAD]', '[PAD]', '[PAD]', '[PAD]', '[PAD]', '[PAD]', '[PAD]', '[PAD]', '[PAD]', '[PAD]', '[PAD]', '[PAD]', '[PAD]', '[PAD]', '[PAD]', '[PAD]', '[PAD]', '[PAD]', '[PAD]', '[PAD]', '[PAD]', '[PAD]', '[PAD]', '[PAD]', '[PAD]', '[PAD]', '[PAD]', '[PAD]', '[PAD]', '[PAD]', '[PAD]', '[PAD]', '[PAD]', '[PAD]', '[PAD]', '[PAD]', '[PAD]', '[PAD]', '[PAD]', '[PAD]', '[PAD]', '[PAD]', '[PAD]', '[PAD]', '[PAD]', '[PAD]', '[PAD]', '[PAD]', '[PAD]', '[PAD]', '[PAD]', '[PAD]', '[PAD]', '[PAD]', '[PAD]', '[PAD]', '[PAD]', '[PAD]', '[PAD]', '[PAD]', '[PAD]', '[PAD]', '[PAD]', '[PAD]', '[PAD]', '[PAD]', '[PAD]', '[PAD]']\n"
     ]
    }
   ],
   "source": [
    "eng_output = eng_tokenizer.encode(english_sentences[0])\n",
    "urdu_output = urdu_tokenizer.encode(urdu_sentences[0])\n",
    "print(eng_output.tokens)\n",
    "print(urdu_output.tokens)"
   ]
  },
  {
   "cell_type": "code",
   "execution_count": null,
   "metadata": {},
   "outputs": [],
   "source": [
    "def convert_to_tokenIds(english_sentences, urdu_sentences):\n",
    "    eng_tokens = []\n",
    "    urdu_tokens = []\n",
    "    for sentence in english_sentences:\n",
    "        output = eng_tokenizer.encode_batchencode(sentence)\n",
    "        eng_tokens.append(output.ids)\n",
    "    for sentence in urdu_sentences:\n",
    "        output = urdu_tokenizer.encode(sentence)\n",
    "        urdu_tokens.append(output.ids)    \n",
    "    return eng_tokens, urdu_tokens    "
   ]
  },
  {
   "cell_type": "code",
   "execution_count": null,
   "metadata": {},
   "outputs": [
    {
     "name": "stdout",
     "output_type": "stream",
     "text": [
      "Train set size : 22072\n",
      "Test set size : 2453\n"
     ]
    }
   ],
   "source": [
    "total = len(english_sentences)\n",
    "train = int(0.9 * total)\n",
    "eng_train, eng_test = english_sentences[:train], english_sentences[train:]\n",
    "urdu_train, urdu_test = urdu_sentences[:train], urdu_sentences[train:]\n",
    "print(f'Train set size : {len(eng_train)}')\n",
    "print(f'Test set size : {len(eng_test)}')"
   ]
  },
  {
   "cell_type": "code",
   "execution_count": null,
   "metadata": {},
   "outputs": [
    {
     "name": "stdout",
     "output_type": "stream",
     "text": [
      "is zain your nephew\n",
      "زین تمہارا بھتیجا ہے۔\n"
     ]
    }
   ],
   "source": [
    "enc_seq, dec_seq = eng_train[0], urdu_train[0]\n",
    "print(enc_seq)\n",
    "print(dec_seq)"
   ]
  },
  {
   "cell_type": "code",
   "execution_count": null,
   "metadata": {},
   "outputs": [],
   "source": [
    "def add_padding(token_id, sequence, max_length):\n",
    "    tokens_to_add = max_length - len(sequence)\n",
    "    sequence = sequence + [token_id] * tokens_to_add\n",
    "    return sequence"
   ]
  },
  {
   "cell_type": "code",
   "execution_count": null,
   "metadata": {},
   "outputs": [
    {
     "name": "stdout",
     "output_type": "stream",
     "text": [
      "[1, 696, 149, 126, 38, 806, 45, 2, 0, 0, 0, 0, 0, 0, 0, 0, 0, 0, 0, 0, 0, 0, 0, 0, 0, 0, 0, 0, 0, 0, 0, 0, 0, 0, 0, 0, 0, 0, 0, 0, 0, 0, 0, 0, 0, 0, 0, 0, 0, 0, 0, 0, 0, 0, 0, 0, 0, 0, 0, 0, 0, 0, 0, 0, 0, 0, 0, 0, 0, 0, 0, 0, 0, 0, 0, 0, 0, 0, 0, 0, 0, 0, 0, 0, 0, 0, 0, 0, 0, 0, 0, 0, 0, 0, 0, 0, 0, 0, 0, 0]\n",
      "[1, 242, 2584, 263, 4503, 2465, 170, 132, '[PAD]', '[PAD]', '[PAD]', '[PAD]', '[PAD]', '[PAD]', '[PAD]', '[PAD]', '[PAD]', '[PAD]', '[PAD]', '[PAD]', '[PAD]', '[PAD]', '[PAD]', '[PAD]', '[PAD]', '[PAD]', '[PAD]', '[PAD]', '[PAD]', '[PAD]', '[PAD]', '[PAD]', '[PAD]', '[PAD]', '[PAD]', '[PAD]', '[PAD]', '[PAD]', '[PAD]', '[PAD]', '[PAD]', '[PAD]', '[PAD]', '[PAD]', '[PAD]', '[PAD]', '[PAD]', '[PAD]', '[PAD]', '[PAD]', '[PAD]', '[PAD]', '[PAD]', '[PAD]', '[PAD]', '[PAD]', '[PAD]', '[PAD]', '[PAD]', '[PAD]', '[PAD]', '[PAD]', '[PAD]', '[PAD]', '[PAD]', '[PAD]', '[PAD]', '[PAD]', '[PAD]', '[PAD]', '[PAD]', '[PAD]', '[PAD]', '[PAD]', '[PAD]', '[PAD]', '[PAD]', '[PAD]', '[PAD]', '[PAD]', '[PAD]', '[PAD]', '[PAD]', '[PAD]', '[PAD]', '[PAD]', '[PAD]', '[PAD]', '[PAD]', '[PAD]', '[PAD]', '[PAD]', '[PAD]', '[PAD]', '[PAD]', '[PAD]', '[PAD]', '[PAD]', '[PAD]', '[PAD]']\n",
      "[242, 2584, 263, 4503, 2465, 170, 132, 2, '[PAD]', '[PAD]', '[PAD]', '[PAD]', '[PAD]', '[PAD]', '[PAD]', '[PAD]', '[PAD]', '[PAD]', '[PAD]', '[PAD]', '[PAD]', '[PAD]', '[PAD]', '[PAD]', '[PAD]', '[PAD]', '[PAD]', '[PAD]', '[PAD]', '[PAD]', '[PAD]', '[PAD]', '[PAD]', '[PAD]', '[PAD]', '[PAD]', '[PAD]', '[PAD]', '[PAD]', '[PAD]', '[PAD]', '[PAD]', '[PAD]', '[PAD]', '[PAD]', '[PAD]', '[PAD]', '[PAD]', '[PAD]', '[PAD]', '[PAD]', '[PAD]', '[PAD]', '[PAD]', '[PAD]', '[PAD]', '[PAD]', '[PAD]', '[PAD]', '[PAD]', '[PAD]', '[PAD]', '[PAD]', '[PAD]', '[PAD]', '[PAD]', '[PAD]', '[PAD]', '[PAD]', '[PAD]', '[PAD]', '[PAD]', '[PAD]', '[PAD]', '[PAD]', '[PAD]', '[PAD]', '[PAD]', '[PAD]', '[PAD]', '[PAD]', '[PAD]', '[PAD]', '[PAD]', '[PAD]', '[PAD]', '[PAD]', '[PAD]', '[PAD]', '[PAD]', '[PAD]', '[PAD]', '[PAD]', '[PAD]', '[PAD]', '[PAD]', '[PAD]', '[PAD]', '[PAD]', '[PAD]']\n"
     ]
    }
   ],
   "source": [
    "urdu_tokenizer.no_padding()\n",
    "for enc_seq, dec_seq in zip(eng_train[:1], urdu_train[:1]):\n",
    "    enc_seq = eng_tokenizer.encode(enc_seq)\n",
    "    enc_seq = enc_seq.ids\n",
    "    dec_seq = urdu_tokenizer.encode(dec_seq)\n",
    "    dec_seq = dec_seq.ids\n",
    "    dec_input, dec_output = dec_seq[:-1], dec_seq[1:]\n",
    "    dec_input = add_padding('[PAD]', dec_input, 100) \n",
    "    dec_output = add_padding('[PAD]', dec_output, 100)\n",
    "print(enc_seq)\n",
    "print(dec_input)\n",
    "print(dec_output)"
   ]
  },
  {
   "cell_type": "markdown",
   "metadata": {},
   "source": [
    "# Creating dataset loader"
   ]
  },
  {
   "cell_type": "code",
   "execution_count": null,
   "metadata": {},
   "outputs": [],
   "source": [
    "from torch.utils.data import Dataset\n",
    "import torch\n",
    "from torch.utils.data import DataLoader"
   ]
  },
  {
   "cell_type": "code",
   "execution_count": null,
   "metadata": {},
   "outputs": [],
   "source": [
    "class TextSequenceDataset(Dataset):\n",
    "    def __init__(self, eng_sentences, urdu_sentences, \n",
    "                 eng_tokenizer, urdu_tokenizer,\n",
    "                 max_length):\n",
    "        self.eng_sentences = eng_sentences\n",
    "        self.urdu_sentences = urdu_sentences\n",
    "        self.max_length = max_length\n",
    "        self.eng_tokenizer = eng_tokenizer\n",
    "        self.urdu_tokenizer = urdu_tokenizer\n",
    "\n",
    "    def __len__(self):\n",
    "        return len(self.eng_sentences)\n",
    "\n",
    "    def __getitem__(self, idx):\n",
    "        pad_token_id = urdu_tokenizer.token_to_id('[PAD]')\n",
    "        enc_seq, dec_seq = self.eng_sentences[idx], self.urdu_sentences[idx]\n",
    "        enc_seq = self.eng_tokenizer.encode(enc_seq)\n",
    "        enc_seq = enc_seq.ids\n",
    "        dec_seq = self.urdu_tokenizer.encode(dec_seq)\n",
    "        dec_seq = dec_seq.ids\n",
    "        dec_input, dec_output = dec_seq[:-1], dec_seq[1:]\n",
    "        dec_input = add_padding(pad_token_id, dec_input, self.max_length) \n",
    "        dec_output = add_padding(pad_token_id, dec_output, self.max_length)\n",
    "        \n",
    "        return {\n",
    "            \"encoder_input\": torch.tensor(enc_seq),\n",
    "            \"decoder_input\": torch.tensor(dec_input),\n",
    "            \"decoder_output\": torch.tensor(dec_output),\n",
    "\n",
    "        }"
   ]
  },
  {
   "cell_type": "code",
   "execution_count": null,
   "metadata": {},
   "outputs": [],
   "source": [
    "train_dataset = TextSequenceDataset(eng_train, urdu_train, \n",
    "                              eng_tokenizer, urdu_tokenizer, 100)\n",
    "val_dataset = TextSequenceDataset(eng_test, urdu_test, \n",
    "                              eng_tokenizer, urdu_tokenizer, 100)"
   ]
  },
  {
   "cell_type": "code",
   "execution_count": null,
   "metadata": {},
   "outputs": [
    {
     "name": "stdout",
     "output_type": "stream",
     "text": [
      "torch.Size([8, 100])\n",
      "torch.Size([8, 100])\n",
      "torch.Size([8, 100])\n"
     ]
    }
   ],
   "source": [
    "BATCH_SIZE = 8\n",
    "train_dataloader = DataLoader(train_dataset, batch_size=BATCH_SIZE, shuffle=True)\n",
    "val_dataloader = DataLoader(val_dataset, batch_size=BATCH_SIZE, shuffle=True)\n",
    "# Iterate through the DataLoader\n",
    "batch = next(iter(train_dataloader))\n",
    "print(batch['encoder_input'].shape)\n",
    "print(batch['decoder_input'].shape)\n",
    "print(batch['decoder_output'].shape)"
   ]
  },
  {
   "cell_type": "markdown",
   "metadata": {},
   "source": [
    "# Setting up training loop"
   ]
  },
  {
   "cell_type": "code",
   "execution_count": null,
   "metadata": {},
   "outputs": [],
   "source": [
    "from model import Transformer"
   ]
  },
  {
   "cell_type": "code",
   "execution_count": null,
   "metadata": {},
   "outputs": [],
   "source": [
    "src_vocab_size = eng_tokenizer.get_vocab_size()\n",
    "trgt_vocab_size = urdu_tokenizer.get_vocab_size()\n",
    "model = Transformer(vocab_src=src_vocab_size, \n",
    "                    vocab_trgt=trgt_vocab_size,\n",
    "                    num_heads=8)"
   ]
  },
  {
   "cell_type": "code",
   "execution_count": null,
   "metadata": {},
   "outputs": [
    {
     "data": {
      "text/plain": [
       "Transformer(\n",
       "  (embeddings_src): Embedding(5000, 512)\n",
       "  (embeddings_trgt): Embedding(5000, 512)\n",
       "  (positional_enc): PositionalEncoding()\n",
       "  (linear): Linear(in_features=512, out_features=5000, bias=True)\n",
       "  (dropout): Dropout(p=0.1, inplace=False)\n",
       "  (softmax): Softmax(dim=-1)\n",
       ")"
      ]
     },
     "execution_count": 21,
     "metadata": {},
     "output_type": "execute_result"
    }
   ],
   "source": [
    "model"
   ]
  },
  {
   "cell_type": "code",
   "execution_count": null,
   "metadata": {},
   "outputs": [],
   "source": [
    "# test data\n",
    "x, y = batch['encoder_input'], batch['decoder_input']\n",
    "output = model(x, y)"
   ]
  },
  {
   "cell_type": "code",
   "execution_count": null,
   "metadata": {},
   "outputs": [],
   "source": [
    "actual = batch['decoder_output']"
   ]
  },
  {
   "cell_type": "code",
   "execution_count": null,
   "metadata": {},
   "outputs": [],
   "source": [
    "logits_flat = output.view(-1, output.size(-1))\n",
    "target_flat = actual.view(-1)"
   ]
  },
  {
   "cell_type": "code",
   "execution_count": null,
   "metadata": {},
   "outputs": [],
   "source": [
    "# write loss function\n",
    "loss_fn = torch.nn.CrossEntropyLoss(ignore_index=0, label_smoothing=0.9)\n",
    "# loss(logits_flat, target_flat)\n",
    "# initialize optimzier\n",
    "adam_optimizer = torch.optim.Adam(model.parameters(), lr=0.0001)"
   ]
  },
  {
   "cell_type": "code",
   "execution_count": 35,
   "metadata": {},
   "outputs": [
    {
     "name": "stdout",
     "output_type": "stream",
     "text": [
      "Epoch: 0/1, Training Loss: 9.296722221374512\n"
     ]
    }
   ],
   "source": [
    "epochs = 1\n",
    "for epoch in range(epochs):\n",
    "    model.train()\n",
    "    train_loss = 0.0\n",
    "\n",
    "    for i, data in enumerate(train_dataloader):\n",
    "        x, y, target = data['encoder_input'], data['decoder_input'], data['decoder_output']\n",
    "        adam_optimizer.zero_grad()\n",
    "        output = model(x, y)\n",
    "        logits_flat = output.view(-1, output.size(-1))\n",
    "        target_flat = target.view(-1)\n",
    "        loss = loss_fn(logits_flat, target_flat)\n",
    "        loss.backward()\n",
    "        adam_optimizer.step()\n",
    "        train_loss += loss.item()\n",
    "        if i==10:\n",
    "            break   \n",
    "    # avg_loss = train_loss/len(train_dataloader)\n",
    "    avg_loss = train_loss / i\n",
    "    print(f\"Epoch: {epoch}/{epochs}, Training Loss: {avg_loss}\")\n",
    "\n",
    "    model.eval()\n",
    "    val_loss = 0.0\n",
    "\n",
    "    # with torch.no_grad():\n",
    "    #     for data in iter(val_dataloader):\n",
    "    #         x, y, target = data['encoder_input'], data['decoder_input'], data['decoder_output']\n",
    "    #         output = model(x, y)\n",
    "    #         logits_flat = output.view(-1, output.size(-1))\n",
    "    #         target_flat = target.view(-1)\n",
    "    #         loss = loss_fn(logits_flat, target_flat)\n",
    "    #         val_loss += loss.item()\n",
    "\n",
    "    # avg_val_loss = val_loss/len(val_dataloader)\n",
    "    # print(f\"Epoch: {epoch}/{epochs}, Validation Loss: {avg_val_loss}\") \n"
   ]
  },
  {
   "cell_type": "code",
   "execution_count": null,
   "metadata": {},
   "outputs": [],
   "source": []
  }
 ],
 "metadata": {
  "kernelspec": {
   "display_name": "Python 3",
   "language": "python",
   "name": "python3"
  },
  "language_info": {
   "codemirror_mode": {
    "name": "ipython",
    "version": 3
   },
   "file_extension": ".py",
   "mimetype": "text/x-python",
   "name": "python",
   "nbconvert_exporter": "python",
   "pygments_lexer": "ipython3",
   "version": "3.10.5"
  }
 },
 "nbformat": 4,
 "nbformat_minor": 2
}
